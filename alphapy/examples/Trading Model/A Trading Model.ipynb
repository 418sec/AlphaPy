{
 "cells": [
  {
   "cell_type": "code",
   "execution_count": null,
   "metadata": {},
   "outputs": [],
   "source": [
    "pwd"
   ]
  },
  {
   "cell_type": "code",
   "execution_count": 3,
   "metadata": {},
   "outputs": [],
   "source": [
    "from alphapy.analysis import Analysis\n",
    "from alphapy.analysis import run_analysis\n",
    "from alphapy.stockstream import get_market_config\n",
    "from alphapy.model import get_model_config\n",
    "from alphapy.data import get_feed_data\n",
    "from alphapy.frame import Frame\n",
    "from alphapy.group import Group\n",
    "from alphapy.model import Model\n",
    "from alphapy.var import vmapply\n",
    "\n",
    "from pyfolio import plot_annual_returns\n",
    "from pyfolio import plot_drawdown_periods\n",
    "from pyfolio import plot_drawdown_underwater\n",
    "from pyfolio import plot_monthly_returns_dist\n",
    "from pyfolio import plot_monthly_returns_heatmap\n",
    "from pyfolio import plot_return_quantiles\n",
    "from pyfolio import plot_returns\n",
    "from pyfolio import plot_rolling_returns\n",
    "from pyfolio import plot_rolling_sharpe\n",
    "from pyfolio import show_perf_stats\n",
    "from pyfolio import show_worst_drawdown_periods\n",
    "from pyfolio.utils import get_symbol_rets\n"
   ]
  },
  {
   "cell_type": "code",
   "execution_count": null,
   "metadata": {},
   "outputs": [],
   "source": [
    "import logging\n",
    "logger = logging.getLogger()\n",
    "logger.setLevel(logging.INFO)"
   ]
  },
  {
   "cell_type": "code",
   "execution_count": null,
   "metadata": {
    "collapsed": true
   },
   "outputs": [],
   "source": [
    "model_specs = get_model_config('./config')"
   ]
  },
  {
   "cell_type": "code",
   "execution_count": null,
   "metadata": {},
   "outputs": [],
   "source": [
    "model_specs"
   ]
  },
  {
   "cell_type": "code",
   "execution_count": null,
   "metadata": {
    "collapsed": true
   },
   "outputs": [],
   "source": [
    "market_specs = get_market_config('./config')"
   ]
  },
  {
   "cell_type": "code",
   "execution_count": null,
   "metadata": {},
   "outputs": [],
   "source": [
    "market_specs"
   ]
  },
  {
   "cell_type": "code",
   "execution_count": null,
   "metadata": {
    "collapsed": true
   },
   "outputs": [],
   "source": [
    "model = Model(model_specs)"
   ]
  },
  {
   "cell_type": "code",
   "execution_count": null,
   "metadata": {},
   "outputs": [],
   "source": [
    "model"
   ]
  },
  {
   "cell_type": "code",
   "execution_count": null,
   "metadata": {},
   "outputs": [],
   "source": [
    "# Get any model specifications\n",
    "\n",
    "target = model.specs['target']\n",
    "\n",
    "# Get any market specifications\n",
    "\n",
    "features = market_specs['features']\n",
    "forecast_period = market_specs['forecast_period']\n",
    "leaders = market_specs['leaders']\n",
    "lookback_period = market_specs['lookback_period']\n",
    "predict_date = market_specs['predict_date']\n",
    "target_group = market_specs['target_group']\n",
    "train_date = market_specs['train_date']"
   ]
  },
  {
   "cell_type": "code",
   "execution_count": null,
   "metadata": {
    "collapsed": true
   },
   "outputs": [],
   "source": [
    "# Set the target group\n",
    "gs = Group.groups[target_group]"
   ]
  },
  {
   "cell_type": "code",
   "execution_count": null,
   "metadata": {},
   "outputs": [],
   "source": [
    "gs.members"
   ]
  },
  {
   "cell_type": "code",
   "execution_count": null,
   "metadata": {},
   "outputs": [],
   "source": [
    "get_feed_data(gs, lookback_period)"
   ]
  },
  {
   "cell_type": "code",
   "execution_count": null,
   "metadata": {},
   "outputs": [],
   "source": [
    "Frame.frames"
   ]
  },
  {
   "cell_type": "code",
   "execution_count": null,
   "metadata": {},
   "outputs": [],
   "source": [
    "# Apply the features to all of the frames\n",
    "vmapply(gs, features)\n",
    "vmapply(gs, [target])"
   ]
  },
  {
   "cell_type": "code",
   "execution_count": null,
   "metadata": {
    "collapsed": true
   },
   "outputs": [],
   "source": [
    "a = Analysis(model, gs, train_date, predict_date)"
   ]
  },
  {
   "cell_type": "code",
   "execution_count": null,
   "metadata": {},
   "outputs": [],
   "source": [
    "results = run_analysis(a, forecast_period, leaders)"
   ]
  },
  {
   "cell_type": "code",
   "execution_count": null,
   "metadata": {
    "collapsed": true
   },
   "outputs": [],
   "source": [
    "df = pd.read_csv('faang_xma_returns_1d.csv', index_col='date', squeeze=True)\n",
    "df.index = pd.to_datetime(df.index, utc=True)\n",
    "pf.create_returns_tear_sheet(df)"
   ]
  }
 ],
 "metadata": {
  "kernelspec": {
   "display_name": "Python 3",
   "language": "python",
   "name": "python3"
  },
  "language_info": {
   "codemirror_mode": {
    "name": "ipython",
    "version": 3
   },
   "file_extension": ".py",
   "mimetype": "text/x-python",
   "name": "python",
   "nbconvert_exporter": "python",
   "pygments_lexer": "ipython3",
   "version": "3.6.0"
  }
 },
 "nbformat": 4,
 "nbformat_minor": 2
}
